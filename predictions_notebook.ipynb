{
 "cells": [
  {
   "cell_type": "markdown",
   "id": "bedbb2f6",
   "metadata": {},
   "source": [
    "# Dataset Information"
   ]
  },
  {
   "cell_type": "markdown",
   "id": "773337d5",
   "metadata": {},
   "source": [
    "The dataset used for this challenge is taken from the München Open Data Portal\n",
    "### Monatszahlen Verkehrsunfälle \n",
    "Link : https://opendata.muenchen.de/dataset/monatszahlen-verkehrsunfaelle/resource/40094bd6-f82d-4979-949b-26c8dc00b9a7"
   ]
  },
  {
   "cell_type": "markdown",
   "id": "e67a6d10",
   "metadata": {},
   "source": [
    "The above data provides historical information values on the number of accidents for different categories per month in the \n",
    "city of Munich, Germany. \n",
    "As the dataset contains several columns, but we will focus on the mentioned first five columns which are important to our mission, hence feature selection is not required here."
   ]
  },
  {
   "cell_type": "markdown",
   "id": "6ee5acba",
   "metadata": {},
   "source": [
    "Five columns considered:"
   ]
  },
  {
   "cell_type": "markdown",
   "id": "0ab2579a",
   "metadata": {},
   "source": [
    "|Translated Column Name - >| Category    | Accident-type | Year | Month | Value |\n",
    "|----------------------|-------------|---------------|------|-------|-------|\n",
    "|Actual Column Name in Dataset ->  | MONATSZAHL  | AUSPRAEGUNG   | JAHR | MONAT | WERT  |"
   ]
  },
  {
   "cell_type": "markdown",
   "id": "d96cf222",
   "metadata": {},
   "source": [
    "1. Category - (MONATSZAHL)\n",
    "2. Accident-type - (insgesamt means total for all subcategories) (AUSPRAEGUNG)\n",
    "3. Year - (JAHR)\n",
    "4. Month - (MONAT)\n",
    "5. Value - (WERT)"
   ]
  },
  {
   "cell_type": "markdown",
   "id": "97228a16",
   "metadata": {},
   "source": [
    "#### Category Types [ MONATSZAHL ]:\n",
    "1. 'Alkoholunfälle' - Alcohol accidents\n",
    "2. 'Fluchtunfälle' - Escape accidents\n",
    "3. 'Verkehrsunfälle' - Traffic Accidents"
   ]
  },
  {
   "cell_type": "markdown",
   "id": "95aa69c7",
   "metadata": {},
   "source": [
    "#### Accident Types [ AUSPRAEGUNG ]:\n",
    "1. 'insgesamt' - total\n",
    "2. 'mit personenschäden' - personal injury\n",
    "3. 'Verletzte und Getötete' - injured and killed"
   ]
  },
  {
   "cell_type": "markdown",
   "id": "d2da2e9b",
   "metadata": {},
   "source": [
    "----"
   ]
  },
  {
   "cell_type": "code",
   "execution_count": null,
   "id": "32650750",
   "metadata": {},
   "outputs": [],
   "source": []
  }
 ],
 "metadata": {
  "kernelspec": {
   "display_name": "Python 3 (ipykernel)",
   "language": "python",
   "name": "python3"
  },
  "language_info": {
   "codemirror_mode": {
    "name": "ipython",
    "version": 3
   },
   "file_extension": ".py",
   "mimetype": "text/x-python",
   "name": "python",
   "nbconvert_exporter": "python",
   "pygments_lexer": "ipython3",
   "version": "3.9.12"
  }
 },
 "nbformat": 4,
 "nbformat_minor": 5
}
