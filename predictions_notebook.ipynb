{
 "cells": [
  {
   "cell_type": "markdown",
   "id": "94b4e159",
   "metadata": {},
   "source": [
    "# Dataset Information"
   ]
  },
  {
   "cell_type": "markdown",
   "id": "26d9bbb3",
   "metadata": {},
   "source": [
    "The dataset used for this challenge is taken from the München Open Data Portal\n",
    "### Monatszahlen Verkehrsunfälle \n",
    "Link : https://opendata.muenchen.de/dataset/monatszahlen-verkehrsunfaelle/resource/40094bd6-f82d-4979-949b-26c8dc00b9a7"
   ]
  },
  {
   "cell_type": "markdown",
   "id": "a06fce02",
   "metadata": {},
   "source": [
    "The above data provides historical information values on the number of accidents for different categories per month in the \n",
    "city of Munich, Germany. \n",
    "As the dataset contains several columns, but we will focus on the mentioned first five columns which are important to our mission, hence feature selection is not required here."
   ]
  },
  {
   "cell_type": "markdown",
   "id": "2d784395",
   "metadata": {},
   "source": [
    "Five columns considered:"
   ]
  },
  {
   "cell_type": "markdown",
   "id": "96bdaeca",
   "metadata": {},
   "source": [
    "|Translated Column Name - >| Category    | Accident-type | Year | Month | Value |\n",
    "|----------------------|-------------|---------------|------|-------|-------|\n",
    "|Actual Column Name in Dataset ->  | MONATSZAHL  | AUSPRAEGUNG   | JAHR | MONAT | WERT  |"
   ]
  },
  {
   "cell_type": "markdown",
   "id": "1b5cb1cf",
   "metadata": {},
   "source": [
    "1. Category - (MONATSZAHL)\n",
    "2. Accident-type - (insgesamt means total for all subcategories) (AUSPRAEGUNG)\n",
    "3. Year - (JAHR)\n",
    "4. Month - (MONAT)\n",
    "5. Value - (WERT)"
   ]
  },
  {
   "cell_type": "markdown",
   "id": "6fe180d9",
   "metadata": {},
   "source": [
    "#### Category Types [ MONATSZAHL ]:\n",
    "1. 'Alkoholunfälle' - Alcohol accidents\n",
    "2. 'Fluchtunfälle' - Escape accidents\n",
    "3. 'Verkehrsunfälle' - Traffic Accidents"
   ]
  },
  {
   "cell_type": "markdown",
   "id": "69269f44",
   "metadata": {},
   "source": [
    "#### Accident Types [ AUSPRAEGUNG ]:\n",
    "1. 'insgesamt' - total\n",
    "2. 'mit personenschäden' - personal injury\n",
    "3. 'Verletzte und Getötete' - injured and killed"
   ]
  },
  {
   "cell_type": "markdown",
   "id": "0e7d63d2",
   "metadata": {},
   "source": [
    "----"
   ]
  },
  {
   "cell_type": "markdown",
   "id": "9480c98a",
   "metadata": {},
   "source": [
    "# Importing Libraries, Packages and Data"
   ]
  },
  {
   "cell_type": "code",
   "execution_count": 3,
   "id": "856b5078",
   "metadata": {},
   "outputs": [],
   "source": [
    "import pandas as pd\n",
    "import numpy as np"
   ]
  },
  {
   "cell_type": "code",
   "execution_count": 4,
   "id": "bcf6ed88",
   "metadata": {},
   "outputs": [
    {
     "data": {
      "text/html": [
       "<div>\n",
       "<style scoped>\n",
       "    .dataframe tbody tr th:only-of-type {\n",
       "        vertical-align: middle;\n",
       "    }\n",
       "\n",
       "    .dataframe tbody tr th {\n",
       "        vertical-align: top;\n",
       "    }\n",
       "\n",
       "    .dataframe thead th {\n",
       "        text-align: right;\n",
       "    }\n",
       "</style>\n",
       "<table border=\"1\" class=\"dataframe\">\n",
       "  <thead>\n",
       "    <tr style=\"text-align: right;\">\n",
       "      <th></th>\n",
       "      <th>MONATSZAHL</th>\n",
       "      <th>AUSPRÄGUNG</th>\n",
       "      <th>JAHR</th>\n",
       "      <th>MONAT</th>\n",
       "      <th>WERT</th>\n",
       "      <th>VORJAHRESWERT</th>\n",
       "      <th>VERÄND_VORMONAT_PROZENT</th>\n",
       "      <th>VERÄND_VORJAHRESMONAT_PROZENT</th>\n",
       "      <th>ZWÖLF_MONATE_MITTELWERT</th>\n",
       "    </tr>\n",
       "  </thead>\n",
       "  <tbody>\n",
       "    <tr>\n",
       "      <th>0</th>\n",
       "      <td>Alkoholunfälle</td>\n",
       "      <td>insgesamt</td>\n",
       "      <td>2022</td>\n",
       "      <td>202201</td>\n",
       "      <td>NaN</td>\n",
       "      <td>16.0</td>\n",
       "      <td>NaN</td>\n",
       "      <td>NaN</td>\n",
       "      <td>NaN</td>\n",
       "    </tr>\n",
       "    <tr>\n",
       "      <th>1</th>\n",
       "      <td>Alkoholunfälle</td>\n",
       "      <td>insgesamt</td>\n",
       "      <td>2022</td>\n",
       "      <td>202202</td>\n",
       "      <td>NaN</td>\n",
       "      <td>14.0</td>\n",
       "      <td>NaN</td>\n",
       "      <td>NaN</td>\n",
       "      <td>NaN</td>\n",
       "    </tr>\n",
       "    <tr>\n",
       "      <th>2</th>\n",
       "      <td>Alkoholunfälle</td>\n",
       "      <td>insgesamt</td>\n",
       "      <td>2022</td>\n",
       "      <td>202203</td>\n",
       "      <td>NaN</td>\n",
       "      <td>24.0</td>\n",
       "      <td>NaN</td>\n",
       "      <td>NaN</td>\n",
       "      <td>NaN</td>\n",
       "    </tr>\n",
       "    <tr>\n",
       "      <th>3</th>\n",
       "      <td>Alkoholunfälle</td>\n",
       "      <td>insgesamt</td>\n",
       "      <td>2022</td>\n",
       "      <td>202204</td>\n",
       "      <td>NaN</td>\n",
       "      <td>16.0</td>\n",
       "      <td>NaN</td>\n",
       "      <td>NaN</td>\n",
       "      <td>NaN</td>\n",
       "    </tr>\n",
       "    <tr>\n",
       "      <th>4</th>\n",
       "      <td>Alkoholunfälle</td>\n",
       "      <td>insgesamt</td>\n",
       "      <td>2022</td>\n",
       "      <td>202205</td>\n",
       "      <td>NaN</td>\n",
       "      <td>24.0</td>\n",
       "      <td>NaN</td>\n",
       "      <td>NaN</td>\n",
       "      <td>NaN</td>\n",
       "    </tr>\n",
       "    <tr>\n",
       "      <th>...</th>\n",
       "      <td>...</td>\n",
       "      <td>...</td>\n",
       "      <td>...</td>\n",
       "      <td>...</td>\n",
       "      <td>...</td>\n",
       "      <td>...</td>\n",
       "      <td>...</td>\n",
       "      <td>...</td>\n",
       "      <td>...</td>\n",
       "    </tr>\n",
       "    <tr>\n",
       "      <th>2081</th>\n",
       "      <td>Verkehrsunfälle</td>\n",
       "      <td>Verletzte und Getötete</td>\n",
       "      <td>2000</td>\n",
       "      <td>200008</td>\n",
       "      <td>647.0</td>\n",
       "      <td>NaN</td>\n",
       "      <td>-13.04</td>\n",
       "      <td>NaN</td>\n",
       "      <td>584.0</td>\n",
       "    </tr>\n",
       "    <tr>\n",
       "      <th>2082</th>\n",
       "      <td>Verkehrsunfälle</td>\n",
       "      <td>Verletzte und Getötete</td>\n",
       "      <td>2000</td>\n",
       "      <td>200009</td>\n",
       "      <td>675.0</td>\n",
       "      <td>NaN</td>\n",
       "      <td>4.33</td>\n",
       "      <td>NaN</td>\n",
       "      <td>594.0</td>\n",
       "    </tr>\n",
       "    <tr>\n",
       "      <th>2083</th>\n",
       "      <td>Verkehrsunfälle</td>\n",
       "      <td>Verletzte und Getötete</td>\n",
       "      <td>2000</td>\n",
       "      <td>200010</td>\n",
       "      <td>615.0</td>\n",
       "      <td>NaN</td>\n",
       "      <td>-8.89</td>\n",
       "      <td>NaN</td>\n",
       "      <td>596.0</td>\n",
       "    </tr>\n",
       "    <tr>\n",
       "      <th>2084</th>\n",
       "      <td>Verkehrsunfälle</td>\n",
       "      <td>Verletzte und Getötete</td>\n",
       "      <td>2000</td>\n",
       "      <td>200011</td>\n",
       "      <td>578.0</td>\n",
       "      <td>NaN</td>\n",
       "      <td>-6.02</td>\n",
       "      <td>NaN</td>\n",
       "      <td>594.0</td>\n",
       "    </tr>\n",
       "    <tr>\n",
       "      <th>2085</th>\n",
       "      <td>Verkehrsunfälle</td>\n",
       "      <td>Verletzte und Getötete</td>\n",
       "      <td>2000</td>\n",
       "      <td>200012</td>\n",
       "      <td>515.0</td>\n",
       "      <td>NaN</td>\n",
       "      <td>-10.90</td>\n",
       "      <td>NaN</td>\n",
       "      <td>588.0</td>\n",
       "    </tr>\n",
       "  </tbody>\n",
       "</table>\n",
       "<p>2086 rows × 9 columns</p>\n",
       "</div>"
      ],
      "text/plain": [
       "           MONATSZAHL              AUSPRÄGUNG  JAHR   MONAT   WERT  \\\n",
       "0      Alkoholunfälle               insgesamt  2022  202201    NaN   \n",
       "1      Alkoholunfälle               insgesamt  2022  202202    NaN   \n",
       "2      Alkoholunfälle               insgesamt  2022  202203    NaN   \n",
       "3      Alkoholunfälle               insgesamt  2022  202204    NaN   \n",
       "4      Alkoholunfälle               insgesamt  2022  202205    NaN   \n",
       "...               ...                     ...   ...     ...    ...   \n",
       "2081  Verkehrsunfälle  Verletzte und Getötete  2000  200008  647.0   \n",
       "2082  Verkehrsunfälle  Verletzte und Getötete  2000  200009  675.0   \n",
       "2083  Verkehrsunfälle  Verletzte und Getötete  2000  200010  615.0   \n",
       "2084  Verkehrsunfälle  Verletzte und Getötete  2000  200011  578.0   \n",
       "2085  Verkehrsunfälle  Verletzte und Getötete  2000  200012  515.0   \n",
       "\n",
       "      VORJAHRESWERT  VERÄND_VORMONAT_PROZENT  VERÄND_VORJAHRESMONAT_PROZENT  \\\n",
       "0              16.0                      NaN                            NaN   \n",
       "1              14.0                      NaN                            NaN   \n",
       "2              24.0                      NaN                            NaN   \n",
       "3              16.0                      NaN                            NaN   \n",
       "4              24.0                      NaN                            NaN   \n",
       "...             ...                      ...                            ...   \n",
       "2081            NaN                   -13.04                            NaN   \n",
       "2082            NaN                     4.33                            NaN   \n",
       "2083            NaN                    -8.89                            NaN   \n",
       "2084            NaN                    -6.02                            NaN   \n",
       "2085            NaN                   -10.90                            NaN   \n",
       "\n",
       "      ZWÖLF_MONATE_MITTELWERT  \n",
       "0                         NaN  \n",
       "1                         NaN  \n",
       "2                         NaN  \n",
       "3                         NaN  \n",
       "4                         NaN  \n",
       "...                       ...  \n",
       "2081                    584.0  \n",
       "2082                    594.0  \n",
       "2083                    596.0  \n",
       "2084                    594.0  \n",
       "2085                    588.0  \n",
       "\n",
       "[2086 rows x 9 columns]"
      ]
     },
     "execution_count": 4,
     "metadata": {},
     "output_type": "execute_result"
    }
   ],
   "source": [
    "df = pd.read_csv(\"data/monatszahlen2209_verkehrsunfaelle.csv\")\n",
    "df"
   ]
  },
  {
   "cell_type": "markdown",
   "id": "791149d5",
   "metadata": {},
   "source": [
    "# Exploratory Data Analysis"
   ]
  },
  {
   "cell_type": "code",
   "execution_count": 5,
   "id": "4dce3524",
   "metadata": {},
   "outputs": [
    {
     "name": "stdout",
     "output_type": "stream",
     "text": [
      "<class 'pandas.core.frame.DataFrame'>\n",
      "RangeIndex: 2086 entries, 0 to 2085\n",
      "Data columns (total 9 columns):\n",
      " #   Column                         Non-Null Count  Dtype  \n",
      "---  ------                         --------------  -----  \n",
      " 0   MONATSZAHL                     2086 non-null   object \n",
      " 1   AUSPRÄGUNG                     2086 non-null   object \n",
      " 2   JAHR                           2086 non-null   int64  \n",
      " 3   MONAT                          2086 non-null   object \n",
      " 4   WERT                           2002 non-null   float64\n",
      " 5   VORJAHRESWERT                  1995 non-null   float64\n",
      " 6   VERÄND_VORMONAT_PROZENT        1840 non-null   float64\n",
      " 7   VERÄND_VORJAHRESMONAT_PROZENT  1910 non-null   float64\n",
      " 8   ZWÖLF_MONATE_MITTELWERT        1848 non-null   float64\n",
      "dtypes: float64(5), int64(1), object(3)\n",
      "memory usage: 146.8+ KB\n"
     ]
    }
   ],
   "source": [
    "df.info()"
   ]
  },
  {
   "cell_type": "code",
   "execution_count": 6,
   "id": "d775ca32",
   "metadata": {},
   "outputs": [
    {
     "data": {
      "text/html": [
       "<div>\n",
       "<style scoped>\n",
       "    .dataframe tbody tr th:only-of-type {\n",
       "        vertical-align: middle;\n",
       "    }\n",
       "\n",
       "    .dataframe tbody tr th {\n",
       "        vertical-align: top;\n",
       "    }\n",
       "\n",
       "    .dataframe thead th {\n",
       "        text-align: right;\n",
       "    }\n",
       "</style>\n",
       "<table border=\"1\" class=\"dataframe\">\n",
       "  <thead>\n",
       "    <tr style=\"text-align: right;\">\n",
       "      <th></th>\n",
       "      <th>JAHR</th>\n",
       "      <th>WERT</th>\n",
       "      <th>VORJAHRESWERT</th>\n",
       "      <th>VERÄND_VORMONAT_PROZENT</th>\n",
       "      <th>VERÄND_VORJAHRESMONAT_PROZENT</th>\n",
       "      <th>ZWÖLF_MONATE_MITTELWERT</th>\n",
       "    </tr>\n",
       "  </thead>\n",
       "  <tbody>\n",
       "    <tr>\n",
       "      <th>count</th>\n",
       "      <td>2086.000000</td>\n",
       "      <td>2002.000000</td>\n",
       "      <td>1995.000000</td>\n",
       "      <td>1840.000000</td>\n",
       "      <td>1910.000000</td>\n",
       "      <td>1848.000000</td>\n",
       "    </tr>\n",
       "    <tr>\n",
       "      <th>mean</th>\n",
       "      <td>2010.963087</td>\n",
       "      <td>1434.433566</td>\n",
       "      <td>1409.676190</td>\n",
       "      <td>5.241538</td>\n",
       "      <td>1.669450</td>\n",
       "      <td>777.310065</td>\n",
       "    </tr>\n",
       "    <tr>\n",
       "      <th>std</th>\n",
       "      <td>6.615227</td>\n",
       "      <td>4634.494223</td>\n",
       "      <td>4564.043202</td>\n",
       "      <td>40.926314</td>\n",
       "      <td>30.197125</td>\n",
       "      <td>1164.856446</td>\n",
       "    </tr>\n",
       "    <tr>\n",
       "      <th>min</th>\n",
       "      <td>2000.000000</td>\n",
       "      <td>0.000000</td>\n",
       "      <td>0.000000</td>\n",
       "      <td>-100.000000</td>\n",
       "      <td>-100.000000</td>\n",
       "      <td>12.000000</td>\n",
       "    </tr>\n",
       "    <tr>\n",
       "      <th>25%</th>\n",
       "      <td>2005.000000</td>\n",
       "      <td>41.000000</td>\n",
       "      <td>41.000000</td>\n",
       "      <td>-15.540000</td>\n",
       "      <td>-12.500000</td>\n",
       "      <td>40.000000</td>\n",
       "    </tr>\n",
       "    <tr>\n",
       "      <th>50%</th>\n",
       "      <td>2011.000000</td>\n",
       "      <td>394.000000</td>\n",
       "      <td>394.000000</td>\n",
       "      <td>0.000000</td>\n",
       "      <td>-1.115000</td>\n",
       "      <td>421.000000</td>\n",
       "    </tr>\n",
       "    <tr>\n",
       "      <th>75%</th>\n",
       "      <td>2017.000000</td>\n",
       "      <td>863.250000</td>\n",
       "      <td>859.500000</td>\n",
       "      <td>18.712500</td>\n",
       "      <td>10.262500</td>\n",
       "      <td>814.250000</td>\n",
       "    </tr>\n",
       "    <tr>\n",
       "      <th>max</th>\n",
       "      <td>2022.000000</td>\n",
       "      <td>46988.000000</td>\n",
       "      <td>46988.000000</td>\n",
       "      <td>600.000000</td>\n",
       "      <td>425.000000</td>\n",
       "      <td>3977.000000</td>\n",
       "    </tr>\n",
       "  </tbody>\n",
       "</table>\n",
       "</div>"
      ],
      "text/plain": [
       "              JAHR          WERT  VORJAHRESWERT  VERÄND_VORMONAT_PROZENT  \\\n",
       "count  2086.000000   2002.000000    1995.000000              1840.000000   \n",
       "mean   2010.963087   1434.433566    1409.676190                 5.241538   \n",
       "std       6.615227   4634.494223    4564.043202                40.926314   \n",
       "min    2000.000000      0.000000       0.000000              -100.000000   \n",
       "25%    2005.000000     41.000000      41.000000               -15.540000   \n",
       "50%    2011.000000    394.000000     394.000000                 0.000000   \n",
       "75%    2017.000000    863.250000     859.500000                18.712500   \n",
       "max    2022.000000  46988.000000   46988.000000               600.000000   \n",
       "\n",
       "       VERÄND_VORJAHRESMONAT_PROZENT  ZWÖLF_MONATE_MITTELWERT  \n",
       "count                    1910.000000              1848.000000  \n",
       "mean                        1.669450               777.310065  \n",
       "std                        30.197125              1164.856446  \n",
       "min                      -100.000000                12.000000  \n",
       "25%                       -12.500000                40.000000  \n",
       "50%                        -1.115000               421.000000  \n",
       "75%                        10.262500               814.250000  \n",
       "max                       425.000000              3977.000000  "
      ]
     },
     "execution_count": 6,
     "metadata": {},
     "output_type": "execute_result"
    }
   ],
   "source": [
    "df.describe()"
   ]
  },
  {
   "cell_type": "code",
   "execution_count": 7,
   "id": "b7ba302c",
   "metadata": {},
   "outputs": [
    {
     "data": {
      "text/plain": [
       "array(['Alkoholunfälle', 'Fluchtunfälle', 'Verkehrsunfälle'], dtype=object)"
      ]
     },
     "execution_count": 7,
     "metadata": {},
     "output_type": "execute_result"
    }
   ],
   "source": [
    "df['MONATSZAHL'].unique()"
   ]
  },
  {
   "cell_type": "code",
   "execution_count": 8,
   "id": "f4b8ecf5",
   "metadata": {},
   "outputs": [
    {
     "data": {
      "text/plain": [
       "array(['insgesamt', 'Verletzte und Getötete', 'mit Personenschäden'],\n",
       "      dtype=object)"
      ]
     },
     "execution_count": 8,
     "metadata": {},
     "output_type": "execute_result"
    }
   ],
   "source": [
    "df['AUSPRÄGUNG'].unique()"
   ]
  },
  {
   "cell_type": "code",
   "execution_count": null,
   "id": "73f81a81",
   "metadata": {},
   "outputs": [],
   "source": []
  }
 ],
 "metadata": {
  "kernelspec": {
   "display_name": "Python 3 (ipykernel)",
   "language": "python",
   "name": "python3"
  },
  "language_info": {
   "codemirror_mode": {
    "name": "ipython",
    "version": 3
   },
   "file_extension": ".py",
   "mimetype": "text/x-python",
   "name": "python",
   "nbconvert_exporter": "python",
   "pygments_lexer": "ipython3",
   "version": "3.9.12"
  }
 },
 "nbformat": 4,
 "nbformat_minor": 5
}
